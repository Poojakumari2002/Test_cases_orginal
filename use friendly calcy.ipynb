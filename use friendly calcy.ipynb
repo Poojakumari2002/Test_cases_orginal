{
 "cells": [
  {
   "cell_type": "code",
   "execution_count": 1,
   "id": "e9693b3f",
   "metadata": {},
   "outputs": [
    {
     "name": "stdout",
     "output_type": "stream",
     "text": [
      "1.addition\n",
      "2.subraction\n",
      "3.multiplication\n",
      "4.division\n",
      "please select option 1/2/3/4\n",
      "please enter option1\n",
      "plz enter first value2\n",
      "plz enter second value3\n",
      "the value of addition 5.0\n"
     ]
    }
   ],
   "source": [
    "def add (a,b):\n",
    "  return(a+b)\n",
    "def sub (a,b):\n",
    "  return (a-b)\n",
    "def mult (a,b):\n",
    "    return(a*b)\n",
    "def div (a,b):\n",
    "    return(a/b)\n",
    "print(\"1.addition\")\n",
    "print(\"2.subraction\")\n",
    "print(\"3.multiplication\")\n",
    "print(\"4.division\")\n",
    "print(\"please select option 1/2/3/4\")\n",
    "choice= int(input(\"please enter option\"))\n",
    "num1= float(int(input(\"plz enter first value\")))\n",
    "num2= float(int(input(\"plz enter second value\")))\n",
    "if choice== 1:\n",
    "  n=add(num1,num2)\n",
    "  print(\"the value of addition\",n)\n",
    "elif choice== 2:\n",
    "  n=sub(num1,num2)\n",
    "  print(\"the value of sub\",n)\n",
    "elif choice== 3:\n",
    "  n=mult(num1,num2)\n",
    "  print(\"the value of mult\",n)\n",
    "elif choice== 4:\n",
    "  n=div(num1,num2)\n",
    "  print(\"the value of div\",n)\n",
    "else:\n",
    "  print(\"invalid\")\n",
    "\n"
   ]
  },
  {
   "cell_type": "code",
   "execution_count": null,
   "id": "0b4e8858",
   "metadata": {},
   "outputs": [],
   "source": []
  }
 ],
 "metadata": {
  "kernelspec": {
   "display_name": "Python 3 (ipykernel)",
   "language": "python",
   "name": "python3"
  },
  "language_info": {
   "codemirror_mode": {
    "name": "ipython",
    "version": 3
   },
   "file_extension": ".py",
   "mimetype": "text/x-python",
   "name": "python",
   "nbconvert_exporter": "python",
   "pygments_lexer": "ipython3",
   "version": "3.11.3"
  }
 },
 "nbformat": 4,
 "nbformat_minor": 5
}
